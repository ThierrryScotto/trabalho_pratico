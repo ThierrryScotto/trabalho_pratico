{
 "cells": [
  {
   "cell_type": "markdown",
   "id": "f6b4692a-aa85-4d68-bdd6-2016769c9757",
   "metadata": {
    "jp-MarkdownHeadingCollapsed": true
   },
   "source": [
    "# Libs"
   ]
  },
  {
   "cell_type": "code",
   "execution_count": 318,
   "id": "f0589ad1-f2b5-4bc9-8430-2a6c40378d13",
   "metadata": {},
   "outputs": [],
   "source": [
    "from math import sqrt\n",
    "from numpy import concatenate\n",
    "import numpy as np\n",
    "from matplotlib import pyplot\n",
    "from pandas import read_csv\n",
    "from pandas import DataFrame\n",
    "from pandas import concat\n",
    "from sklearn.preprocessing import MinMaxScaler\n",
    "from sklearn.preprocessing import LabelEncoder\n",
    "from sklearn.metrics import mean_squared_error\n",
    "from keras.models import Sequential\n",
    "from keras.layers import Dense\n",
    "from keras.layers import LSTM\n",
    "from sklearn.metrics import mean_absolute_error, mean_squared_error, r2_score"
   ]
  },
  {
   "cell_type": "markdown",
   "id": "4e38e817-e14a-4ea1-8fba-daf6dd06bfe3",
   "metadata": {},
   "source": [
    "# Helpers"
   ]
  },
  {
   "cell_type": "markdown",
   "id": "8e23448b-9c27-4954-97e3-b0094d6cef32",
   "metadata": {
    "jp-MarkdownHeadingCollapsed": true
   },
   "source": [
    "## Constants"
   ]
  },
  {
   "cell_type": "code",
   "execution_count": 319,
   "id": "49d87d56-96c1-4366-a634-cf0310eda6f5",
   "metadata": {},
   "outputs": [],
   "source": [
    "features_datasus = ['date', 'hospitalizations','average_stay', 'deaths', 'mortality_rate']"
   ]
  },
  {
   "cell_type": "code",
   "execution_count": 320,
   "id": "e43dc47d-55e8-47f5-9aff-7bd0cdc093ff",
   "metadata": {},
   "outputs": [],
   "source": [
    "test_start_date = \"2017-01-01\""
   ]
  },
  {
   "cell_type": "markdown",
   "id": "5bd56694-e132-479d-a720-17a7dd97c3cd",
   "metadata": {
    "jp-MarkdownHeadingCollapsed": true
   },
   "source": [
    "## Functions"
   ]
  },
  {
   "cell_type": "code",
   "execution_count": 321,
   "id": "bbb0a1d7-2f52-4664-9741-486ee7e7f010",
   "metadata": {},
   "outputs": [],
   "source": [
    "# convert series to supervised learning\n",
    "def series_to_supervised(data, n_in=1, n_out=1, dropnan=True):\n",
    "\tn_vars = 1 if type(data) is list else data.shape[1]\n",
    "\tdf = DataFrame(data)\n",
    "\tcols, names = list(), list()\n",
    "\t# input sequence (t-n, ... t-1)\n",
    "\tfor i in range(n_in, 0, -1):\n",
    "\t\tcols.append(df.shift(i))\n",
    "\t\tnames += [('var%d(t-%d)' % (j+1, i)) for j in range(n_vars)]\n",
    "\t# forecast sequence (t, t+1, ... t+n)\n",
    "\tfor i in range(0, n_out):\n",
    "\t\tcols.append(df.shift(-i))\n",
    "\t\tif i == 0:\n",
    "\t\t\tnames += [('var%d(t)' % (j+1)) for j in range(n_vars)]\n",
    "\t\telse:\n",
    "\t\t\tnames += [('var%d(t+%d)' % (j+1, i)) for j in range(n_vars)]\n",
    "\t# put it all together\n",
    "\tagg = concat(cols, axis=1)\n",
    "\tagg.columns = names\n",
    "\t# drop rows with NaN values\n",
    "\tif dropnan:\n",
    "\t\tagg.dropna(inplace=True)\n",
    "\treturn agg"
   ]
  },
  {
   "cell_type": "code",
   "execution_count": 322,
   "id": "e22c06f1-b044-445d-b54e-72d06782ee35",
   "metadata": {},
   "outputs": [],
   "source": [
    "def train_test_split(df, test_date, target_variable):\n",
    "    # separação por tempo\n",
    "    df_train = df[df.index < test_date]\n",
    "    df_test  = df[df.index >= test_date]\n",
    "\n",
    "    # remoção da variável target\n",
    "    y_train = df_train[target_variable]\n",
    "    y_test  = df_test[target_variable]\n",
    "\n",
    "    df_train = df_train.drop(columns=target_variable).copy()\n",
    "    df_test  = df_test.drop(columns=target_variable).copy()\n",
    "\n",
    "    print(df_train.shape, y_train.shape)\n",
    "    print(df_test.shape, y_test.shape)\n",
    "\n",
    "    return df_train, df_test, y_train, y_test"
   ]
  },
  {
   "cell_type": "code",
   "execution_count": 323,
   "id": "d7b2b78f-5fcd-41fd-a037-7c923c7f41c8",
   "metadata": {},
   "outputs": [],
   "source": [
    "def data_normalization(df_train, df_test, y_train, y_test):\n",
    "    # Para as features\n",
    "    scaler               = MinMaxScaler(feature_range=(0, 1))\n",
    "    df_train_scaled      = scaler.fit_transform(df_train)\n",
    "    df_test_scaled       = scaler.transform(df_test)\n",
    "\n",
    "    # Para a variável alvo\n",
    "    scaler_target       = MinMaxScaler(feature_range=(0, 1))\n",
    "    y_train_scaled      = scaler_target.fit_transform(y_train.to_frame())\n",
    "    y_test_scaled       = scaler_target.transform(y_test.to_frame())\n",
    "\n",
    "    print(df_train_scaled.shape, y_train_scaled.shape)\n",
    "    print(df_test_scaled.shape, y_test_scaled.shape)\n",
    "\n",
    "    return scaler, scaler_target, df_train_scaled, df_test_scaled, y_train_scaled, y_test_scaled"
   ]
  },
  {
   "cell_type": "code",
   "execution_count": 324,
   "id": "fd2e7e17-198d-416d-8bd9-2485b46f5d7a",
   "metadata": {},
   "outputs": [],
   "source": [
    "def data_reconversion(scaler, scaler_target, df_train_scaled, df_test_scaled, y_train_scaled, y_test_scaled, y_pred):\n",
    "    df_train_original = scaler.inverse_transform(df_train_scaled)\n",
    "    df_test_original = scaler.inverse_transform(df_test_scaled)\n",
    "\n",
    "    y_train_original = scaler_target.inverse_transform(y_train_scaled)\n",
    "    y_test_original = scaler_target.inverse_transform(y_test_scaled)\n",
    "    y_pred_original = scaler_target.inverse_transform(y_pred)\n",
    "\n",
    "    return df_train_original, df_test_original, y_train_original, y_test_original, y_pred_original"
   ]
  },
  {
   "cell_type": "code",
   "execution_count": 325,
   "id": "6f7ed204-dff3-4610-ae13-3b4b6d188d1c",
   "metadata": {},
   "outputs": [],
   "source": [
    "def metrics(y, predicted):\n",
    "    mae = mean_absolute_error(y, predicted)\n",
    "    mse = mean_squared_error(y, predicted)\n",
    "    rmse = mean_squared_error(y, predicted)\n",
    "    mape = np.mean(np.abs((y - predicted) / y)) * 100\n",
    "    r2 = r2_score(y, predicted)\n",
    "    return mae, mse, rmse, mape, r2\n",
    "\n",
    "def print_metrics(y, predicted):\n",
    "    mae, mse, rmse, mape, r2 = metrics(y, predicted)\n",
    "    print(f\"Mean Absolute Error (MAE): {mae:.2f}\")\n",
    "    print(f\"Mean Squared Error (MSE): {mse:.2f}\")\n",
    "    print(f\"Root Mean Squared Error (RMSE): {rmse:.2f}\")\n",
    "    print(f\"Mean Absolute Percentage Error (MAPE): {mape:.2f}%\")\n",
    "    print(f\"R-Squared (R²): {r2:.2f}\")"
   ]
  },
  {
   "cell_type": "markdown",
   "id": "67f34482-b936-4961-87b8-f04de0a18751",
   "metadata": {
    "jp-MarkdownHeadingCollapsed": true
   },
   "source": [
    "# Dataset"
   ]
  },
  {
   "cell_type": "code",
   "execution_count": 326,
   "id": "3ed4d93c-b046-487d-97b4-341a0eb255a9",
   "metadata": {},
   "outputs": [],
   "source": [
    "dataset = read_csv('datasets/datasets_prontos/dataset_without_geographic_data.csv', \n",
    "                   header=0, \n",
    "                   index_col=0,\n",
    "                  usecols=features_datasus)\n",
    "\n",
    "values = dataset.values"
   ]
  },
  {
   "cell_type": "code",
   "execution_count": 327,
   "id": "621f47d1-ec17-40a0-a4ec-ed2fe291b080",
   "metadata": {},
   "outputs": [
    {
     "data": {
      "text/html": [
       "<div>\n",
       "<style scoped>\n",
       "    .dataframe tbody tr th:only-of-type {\n",
       "        vertical-align: middle;\n",
       "    }\n",
       "\n",
       "    .dataframe tbody tr th {\n",
       "        vertical-align: top;\n",
       "    }\n",
       "\n",
       "    .dataframe thead th {\n",
       "        text-align: right;\n",
       "    }\n",
       "</style>\n",
       "<table border=\"1\" class=\"dataframe\">\n",
       "  <thead>\n",
       "    <tr style=\"text-align: right;\">\n",
       "      <th></th>\n",
       "      <th>hospitalizations</th>\n",
       "      <th>average_stay</th>\n",
       "      <th>deaths</th>\n",
       "      <th>mortality_rate</th>\n",
       "    </tr>\n",
       "    <tr>\n",
       "      <th>date</th>\n",
       "      <th></th>\n",
       "      <th></th>\n",
       "      <th></th>\n",
       "      <th></th>\n",
       "    </tr>\n",
       "  </thead>\n",
       "  <tbody>\n",
       "    <tr>\n",
       "      <th>2000-12</th>\n",
       "      <td>4266</td>\n",
       "      <td>6.1</td>\n",
       "      <td>242</td>\n",
       "      <td>5.67</td>\n",
       "    </tr>\n",
       "    <tr>\n",
       "      <th>2001-01</th>\n",
       "      <td>4032</td>\n",
       "      <td>5.9</td>\n",
       "      <td>218</td>\n",
       "      <td>5.41</td>\n",
       "    </tr>\n",
       "    <tr>\n",
       "      <th>2001-02</th>\n",
       "      <td>3888</td>\n",
       "      <td>5.8</td>\n",
       "      <td>217</td>\n",
       "      <td>5.58</td>\n",
       "    </tr>\n",
       "    <tr>\n",
       "      <th>2001-03</th>\n",
       "      <td>3658</td>\n",
       "      <td>5.8</td>\n",
       "      <td>176</td>\n",
       "      <td>4.81</td>\n",
       "    </tr>\n",
       "    <tr>\n",
       "      <th>2001-04</th>\n",
       "      <td>4022</td>\n",
       "      <td>5.8</td>\n",
       "      <td>256</td>\n",
       "      <td>6.36</td>\n",
       "    </tr>\n",
       "    <tr>\n",
       "      <th>...</th>\n",
       "      <td>...</td>\n",
       "      <td>...</td>\n",
       "      <td>...</td>\n",
       "      <td>...</td>\n",
       "    </tr>\n",
       "    <tr>\n",
       "      <th>2024-05</th>\n",
       "      <td>3172</td>\n",
       "      <td>6.7</td>\n",
       "      <td>313</td>\n",
       "      <td>9.87</td>\n",
       "    </tr>\n",
       "    <tr>\n",
       "      <th>2024-06</th>\n",
       "      <td>3640</td>\n",
       "      <td>6.6</td>\n",
       "      <td>329</td>\n",
       "      <td>9.04</td>\n",
       "    </tr>\n",
       "    <tr>\n",
       "      <th>2024-07</th>\n",
       "      <td>3689</td>\n",
       "      <td>6.5</td>\n",
       "      <td>338</td>\n",
       "      <td>9.16</td>\n",
       "    </tr>\n",
       "    <tr>\n",
       "      <th>2024-08</th>\n",
       "      <td>3846</td>\n",
       "      <td>6.8</td>\n",
       "      <td>389</td>\n",
       "      <td>10.11</td>\n",
       "    </tr>\n",
       "    <tr>\n",
       "      <th>2024-09</th>\n",
       "      <td>3426</td>\n",
       "      <td>6.9</td>\n",
       "      <td>298</td>\n",
       "      <td>8.70</td>\n",
       "    </tr>\n",
       "  </tbody>\n",
       "</table>\n",
       "<p>286 rows × 4 columns</p>\n",
       "</div>"
      ],
      "text/plain": [
       "         hospitalizations  average_stay  deaths  mortality_rate\n",
       "date                                                           \n",
       "2000-12              4266           6.1     242            5.67\n",
       "2001-01              4032           5.9     218            5.41\n",
       "2001-02              3888           5.8     217            5.58\n",
       "2001-03              3658           5.8     176            4.81\n",
       "2001-04              4022           5.8     256            6.36\n",
       "...                   ...           ...     ...             ...\n",
       "2024-05              3172           6.7     313            9.87\n",
       "2024-06              3640           6.6     329            9.04\n",
       "2024-07              3689           6.5     338            9.16\n",
       "2024-08              3846           6.8     389           10.11\n",
       "2024-09              3426           6.9     298            8.70\n",
       "\n",
       "[286 rows x 4 columns]"
      ]
     },
     "execution_count": 327,
     "metadata": {},
     "output_type": "execute_result"
    }
   ],
   "source": [
    "dataset"
   ]
  },
  {
   "cell_type": "markdown",
   "id": "dcea2871-53cc-49eb-a9d0-8987203a92ec",
   "metadata": {
    "jp-MarkdownHeadingCollapsed": true
   },
   "source": [
    "# Preprocessing"
   ]
  },
  {
   "cell_type": "markdown",
   "id": "ffb324cf-3bf2-455a-84f5-d3ea0c0fd568",
   "metadata": {},
   "source": [
    "## Remoção ano 2000"
   ]
  },
  {
   "cell_type": "code",
   "execution_count": 328,
   "id": "66b1015a-6011-44ea-88fb-d1c8a54c8190",
   "metadata": {},
   "outputs": [],
   "source": [
    "dataset = dataset[(dataset.index >= \"2001-01-01\") & (dataset.index < \"2020-01-01\")]\n",
    "\n",
    "test_start_date = '2017-01-01'"
   ]
  },
  {
   "cell_type": "markdown",
   "id": "040f61da-a1d0-4ba0-b9fb-a8e8efafeb78",
   "metadata": {},
   "source": [
    "# Trainings"
   ]
  },
  {
   "cell_type": "markdown",
   "id": "3d2b2684-8837-413d-9017-8d12e0b13b6e",
   "metadata": {
    "jp-MarkdownHeadingCollapsed": true
   },
   "source": [
    "## Split train and test"
   ]
  },
  {
   "cell_type": "code",
   "execution_count": 329,
   "id": "7d428351-8973-4f43-8b14-15077e429614",
   "metadata": {},
   "outputs": [
    {
     "name": "stdout",
     "output_type": "stream",
     "text": [
      "(192, 3) (192,)\n",
      "(36, 3) (36,)\n"
     ]
    }
   ],
   "source": [
    "df_train, df_test, y_train, y_test = train_test_split(dataset, test_start_date, 'hospitalizations')"
   ]
  },
  {
   "cell_type": "markdown",
   "id": "27b97f56-a01b-48a2-a627-b491bf9a5b13",
   "metadata": {
    "jp-MarkdownHeadingCollapsed": true
   },
   "source": [
    "## Normalization"
   ]
  },
  {
   "cell_type": "code",
   "execution_count": 330,
   "id": "20cfe4a9-61fb-42ee-aab3-8add8b5b1164",
   "metadata": {},
   "outputs": [
    {
     "name": "stdout",
     "output_type": "stream",
     "text": [
      "(192, 3) (192, 1)\n",
      "(36, 3) (36, 1)\n"
     ]
    }
   ],
   "source": [
    "scaler, scaler_target, df_train_scaled, df_test_scaled, y_train_scaled, y_test_scaled = data_normalization(df_train, df_test, y_train, y_test)"
   ]
  },
  {
   "cell_type": "markdown",
   "id": "e98b408f-2d62-4811-a4f3-e628a759a1be",
   "metadata": {
    "jp-MarkdownHeadingCollapsed": true
   },
   "source": [
    "## Test - unindo as features"
   ]
  },
  {
   "cell_type": "code",
   "execution_count": 331,
   "id": "cec0c45c-9ebc-4c37-9709-186741c7d3ce",
   "metadata": {},
   "outputs": [],
   "source": [
    "df_train_scaled = np.hstack((df_train_scaled, y_train_scaled.reshape(-1, 1)))\n",
    "df_test_scaled = np.hstack((df_test_scaled, y_test_scaled.reshape(-1, 1)))"
   ]
  },
  {
   "cell_type": "markdown",
   "id": "8b6e33c0-a3dd-4363-9245-ce61ec57dc46",
   "metadata": {
    "jp-MarkdownHeadingCollapsed": true
   },
   "source": [
    "## LSTM format"
   ]
  },
  {
   "cell_type": "code",
   "execution_count": 332,
   "id": "fae2f7fe-8a4a-485f-8dd4-d07e542f794a",
   "metadata": {},
   "outputs": [
    {
     "name": "stdout",
     "output_type": "stream",
     "text": [
      "reframed train\n",
      "      var1(t-1)  var2(t-1)  var3(t-1)  var4(t-1)   var1(t)   var2(t)  var3(t)  \\\n",
      "1     0.266667   0.262069     0.1232   0.580952  0.266667  0.120690   0.0000   \n",
      "2     0.266667   0.120690     0.0000   0.471429  0.266667  0.396552   0.2480   \n",
      "3     0.266667   0.396552     0.2480   0.644762  0.533333  0.444828   0.2272   \n",
      "4     0.533333   0.444828     0.2272   0.792381  0.266667  0.444828   0.2592   \n",
      "5     0.266667   0.444828     0.2592   0.730000  0.266667  0.531034   0.3136   \n",
      "..         ...        ...        ...        ...       ...       ...      ...   \n",
      "187   0.800000   0.693103     0.7872   0.402857  0.866667  0.572414   0.6736   \n",
      "188   0.866667   0.572414     0.6736   0.350000  0.733333  0.668966   0.6672   \n",
      "189   0.733333   0.668966     0.6672   0.505238  0.800000  0.582759   0.6480   \n",
      "190   0.800000   0.582759     0.6480   0.395238  0.733333  0.524138   0.7056   \n",
      "191   0.733333   0.524138     0.7056   0.242381  0.533333  0.468966   0.6016   \n",
      "\n",
      "      var4(t)  \n",
      "1    0.471429  \n",
      "2    0.644762  \n",
      "3    0.792381  \n",
      "4    0.730000  \n",
      "5    0.803810  \n",
      "..        ...  \n",
      "187  0.350000  \n",
      "188  0.505238  \n",
      "189  0.395238  \n",
      "190  0.242381  \n",
      "191  0.268095  \n",
      "\n",
      "[191 rows x 8 columns]\n",
      "\n",
      "reframed test\n",
      "     var1(t-1)  var2(t-1)  var3(t-1)  var4(t-1)   var1(t)   var2(t)  var3(t)  \\\n",
      "1    0.533333   0.375862     0.6304   0.090000  0.600000  0.451724   0.5760   \n",
      "2    0.600000   0.451724     0.5760   0.269524  0.666667  0.368966   0.5168   \n",
      "3    0.666667   0.368966     0.5168   0.199048  0.533333  0.551724   0.5936   \n",
      "4    0.533333   0.551724     0.5936   0.411429  0.666667  0.631034   0.7520   \n",
      "5    0.666667   0.631034     0.7520   0.352381  0.933333  0.906897   1.0976   \n",
      "6    0.933333   0.906897     1.0976   0.377619  0.733333  0.589655   0.6752   \n",
      "7    0.733333   0.589655     0.6752   0.374286  0.666667  0.706897   0.7696   \n",
      "8    0.666667   0.706897     0.7696   0.441905  0.800000  0.613793   0.7648   \n",
      "9    0.800000   0.613793     0.7648   0.314286  0.866667  0.668966   0.7952   \n",
      "10   0.866667   0.668966     0.7952   0.360476  0.733333  0.544828   0.6880   \n",
      "11   0.733333   0.544828     0.6880   0.292381  0.466667  0.596552   0.7792   \n",
      "12   0.466667   0.596552     0.7792   0.274762  0.666667  0.386207   0.6288   \n",
      "13   0.666667   0.386207     0.6288   0.107619  0.533333  0.451724   0.6416   \n",
      "14   0.533333   0.451724     0.6416   0.197619  0.800000  0.279310   0.3920   \n",
      "15   0.800000   0.279310     0.3920   0.185238  0.600000  0.489655   0.6800   \n",
      "16   0.600000   0.489655     0.6800   0.216190  0.733333  0.634483   0.8128   \n",
      "17   0.733333   0.634483     0.8128   0.294762  0.800000  0.848276   1.0704   \n",
      "18   0.800000   0.848276     1.0704   0.332381  0.933333  0.644828   0.7952   \n",
      "19   0.933333   0.644828     0.7952   0.326190  1.133333  0.868966   1.0848   \n",
      "20   1.133333   0.868966     1.0848   0.344286  1.000000  0.644828   0.7968   \n",
      "21   1.000000   0.644828     0.7968   0.325238  0.800000  0.582759   0.8224   \n",
      "22   0.800000   0.582759     0.8224   0.213333  0.733333  0.451724   0.6224   \n",
      "23   0.733333   0.451724     0.6224   0.219048  0.733333  0.486207   0.6864   \n",
      "24   0.733333   0.486207     0.6864   0.205714  0.400000  0.462069   0.6480   \n",
      "25   0.400000   0.462069     0.6480   0.207619  0.533333  0.441379   0.7312   \n",
      "26   0.533333   0.441379     0.7312   0.094762  0.533333  0.548276   0.7152   \n",
      "27   0.533333   0.548276     0.7152   0.268571  0.466667  0.396552   0.5072   \n",
      "28   0.466667   0.396552     0.5072   0.257619  0.666667  0.641379   0.8464   \n",
      "29   0.666667   0.641379     0.8464   0.271905  0.666667  0.744828   0.9232   \n",
      "30   0.666667   0.744828     0.9232   0.336667  0.666667  0.762069   0.8352   \n",
      "31   0.666667   0.762069     0.8352   0.448571  0.733333  0.658621   0.7408   \n",
      "32   0.733333   0.658621     0.7408   0.404762  0.800000  0.693103   0.7408   \n",
      "33   0.800000   0.693103     0.7408   0.454762  0.666667  0.634483   0.7088   \n",
      "34   0.666667   0.634483     0.7088   0.403810  0.533333  0.527586   0.6592   \n",
      "35   0.533333   0.527586     0.6592   0.296667  0.533333  0.575862   0.7504   \n",
      "\n",
      "     var4(t)  \n",
      "1   0.269524  \n",
      "2   0.199048  \n",
      "3   0.411429  \n",
      "4   0.352381  \n",
      "5   0.377619  \n",
      "6   0.374286  \n",
      "7   0.441905  \n",
      "8   0.314286  \n",
      "9   0.360476  \n",
      "10  0.292381  \n",
      "11  0.274762  \n",
      "12  0.107619  \n",
      "13  0.197619  \n",
      "14  0.185238  \n",
      "15  0.216190  \n",
      "16  0.294762  \n",
      "17  0.332381  \n",
      "18  0.326190  \n",
      "19  0.344286  \n",
      "20  0.325238  \n",
      "21  0.213333  \n",
      "22  0.219048  \n",
      "23  0.205714  \n",
      "24  0.207619  \n",
      "25  0.094762  \n",
      "26  0.268571  \n",
      "27  0.257619  \n",
      "28  0.271905  \n",
      "29  0.336667  \n",
      "30  0.448571  \n",
      "31  0.404762  \n",
      "32  0.454762  \n",
      "33  0.403810  \n",
      "34  0.296667  \n",
      "35  0.273810  \n"
     ]
    }
   ],
   "source": [
    "reframed_train = series_to_supervised(df_train_scaled, 1, 1)\n",
    "reframed_test = series_to_supervised(df_test_scaled, 1, 1)\n",
    "\n",
    "print(\"reframed train\\n\", reframed_train)\n",
    "print(\"\\nreframed test\\n\", reframed_test)"
   ]
  },
  {
   "cell_type": "markdown",
   "id": "5cf37061-6935-4833-a436-01340fa71489",
   "metadata": {
    "jp-MarkdownHeadingCollapsed": true
   },
   "source": [
    "## Drop columns we don't want to predict"
   ]
  },
  {
   "cell_type": "code",
   "execution_count": 333,
   "id": "198ad7d9-0bd4-4e2c-aea0-f9405a3da5ec",
   "metadata": {},
   "outputs": [
    {
     "name": "stdout",
     "output_type": "stream",
     "text": [
      "   var1(t-1)  var2(t-1)  var3(t-1)  var4(t-1)   var1(t)\n",
      "1   0.266667   0.262069     0.1232   0.580952  0.266667\n",
      "2   0.266667   0.120690     0.0000   0.471429  0.266667\n",
      "3   0.266667   0.396552     0.2480   0.644762  0.533333\n",
      "4   0.533333   0.444828     0.2272   0.792381  0.266667\n",
      "5   0.266667   0.444828     0.2592   0.730000  0.266667\n",
      "   var1(t-1)  var2(t-1)  var3(t-1)  var4(t-1)   var1(t)\n",
      "1   0.533333   0.375862     0.6304   0.090000  0.600000\n",
      "2   0.600000   0.451724     0.5760   0.269524  0.666667\n",
      "3   0.666667   0.368966     0.5168   0.199048  0.533333\n",
      "4   0.533333   0.551724     0.5936   0.411429  0.666667\n",
      "5   0.666667   0.631034     0.7520   0.352381  0.933333\n"
     ]
    }
   ],
   "source": [
    "reframed_train.drop(reframed_train.columns[[5, 6, 7]], axis=1, inplace=True)\n",
    "reframed_test.drop(reframed_test.columns[[5, 6, 7]], axis=1, inplace=True)\n",
    "\n",
    "print(reframed_train.head())\n",
    "print(reframed_test.head())"
   ]
  },
  {
   "cell_type": "markdown",
   "id": "dfd9dbaa-f29e-4169-b3e7-5aa85a1becd7",
   "metadata": {},
   "source": [
    "## Split into input and outputs"
   ]
  },
  {
   "cell_type": "code",
   "execution_count": 334,
   "id": "d64af481-dfd2-46cd-919e-36bda7c59705",
   "metadata": {},
   "outputs": [],
   "source": [
    "# train_y = reframed_train['var1(t)']\n",
    "# test_y = reframed_test['var1(t)']\n",
    "\n",
    "# reframed_train = reframed_train.iloc[:, :-1]\n",
    "# reframed_test = reframed_test.iloc[:, :-1]\n",
    "\n",
    "train = reframed_train.values\n",
    "test  = reframed_test.values\n",
    "\n",
    "# split into input and outputs\n",
    "train_X, train_y = train[:, :-1], train[:, -1]\n",
    "test_X, test_y = test[:, :-1], test[:, -1]"
   ]
  },
  {
   "cell_type": "markdown",
   "id": "83217a51-d609-466b-9a2a-cfcd174fa0d5",
   "metadata": {},
   "source": [
    "## Reshape input to be 3D [samples, timesteps, features]"
   ]
  },
  {
   "cell_type": "code",
   "execution_count": 335,
   "id": "9f46156c-b902-49e2-b5c7-88c8ac74fed9",
   "metadata": {},
   "outputs": [
    {
     "name": "stdout",
     "output_type": "stream",
     "text": [
      "(191, 1, 4) (191,) (35, 1, 4) (35,)\n"
     ]
    }
   ],
   "source": [
    "# reshape input to be 3D [samples, timesteps, features]\n",
    "train_X = train_X.reshape((train_X.shape[0], 1, train_X.shape[1]))\n",
    "test_X = test_X.reshape((test_X.shape[0], 1, test_X.shape[1]))\n",
    "\n",
    "print(train_X.shape, train_y.shape, test_X.shape, test_y.shape)"
   ]
  },
  {
   "cell_type": "markdown",
   "id": "3c274b8d-214b-435e-b966-92b908226534",
   "metadata": {},
   "source": [
    "## Treinamento"
   ]
  },
  {
   "cell_type": "code",
   "execution_count": 336,
   "id": "4f781b3b-4ee7-4bec-88ea-e00467d90409",
   "metadata": {},
   "outputs": [
    {
     "name": "stdout",
     "output_type": "stream",
     "text": [
      "Epoch 1/100\n"
     ]
    },
    {
     "name": "stderr",
     "output_type": "stream",
     "text": [
      "/home/thiery/.local/lib/python3.10/site-packages/keras/src/layers/rnn/rnn.py:204: UserWarning: Do not pass an `input_shape`/`input_dim` argument to a layer. When using Sequential models, prefer using an `Input(shape)` object as the first layer in the model instead.\n",
      "  super().__init__(**kwargs)\n"
     ]
    },
    {
     "name": "stdout",
     "output_type": "stream",
     "text": [
      "16/16 - 3s - 181ms/step - loss: 0.4823 - val_loss: 0.6534\n",
      "Epoch 2/100\n",
      "16/16 - 0s - 6ms/step - loss: 0.4482 - val_loss: 0.6163\n",
      "Epoch 3/100\n",
      "16/16 - 0s - 6ms/step - loss: 0.4112 - val_loss: 0.5748\n",
      "Epoch 4/100\n",
      "16/16 - 0s - 6ms/step - loss: 0.3692 - val_loss: 0.5265\n",
      "Epoch 5/100\n",
      "16/16 - 0s - 6ms/step - loss: 0.3210 - val_loss: 0.4696\n",
      "Epoch 6/100\n",
      "16/16 - 0s - 9ms/step - loss: 0.2674 - val_loss: 0.4044\n",
      "Epoch 7/100\n",
      "16/16 - 0s - 6ms/step - loss: 0.2119 - val_loss: 0.3316\n",
      "Epoch 8/100\n",
      "16/16 - 0s - 6ms/step - loss: 0.1605 - val_loss: 0.2541\n",
      "Epoch 9/100\n",
      "16/16 - 0s - 9ms/step - loss: 0.1275 - val_loss: 0.1978\n",
      "Epoch 10/100\n",
      "16/16 - 0s - 6ms/step - loss: 0.1205 - val_loss: 0.1715\n",
      "Epoch 11/100\n",
      "16/16 - 0s - 6ms/step - loss: 0.1215 - val_loss: 0.1627\n",
      "Epoch 12/100\n",
      "16/16 - 0s - 5ms/step - loss: 0.1224 - val_loss: 0.1642\n",
      "Epoch 13/100\n",
      "16/16 - 0s - 6ms/step - loss: 0.1218 - val_loss: 0.1649\n",
      "Epoch 14/100\n",
      "16/16 - 0s - 6ms/step - loss: 0.1212 - val_loss: 0.1644\n",
      "Epoch 15/100\n",
      "16/16 - 0s - 6ms/step - loss: 0.1208 - val_loss: 0.1636\n",
      "Epoch 16/100\n",
      "16/16 - 0s - 6ms/step - loss: 0.1204 - val_loss: 0.1627\n",
      "Epoch 17/100\n",
      "16/16 - 0s - 5ms/step - loss: 0.1200 - val_loss: 0.1618\n",
      "Epoch 18/100\n",
      "16/16 - 0s - 6ms/step - loss: 0.1196 - val_loss: 0.1608\n",
      "Epoch 19/100\n",
      "16/16 - 0s - 5ms/step - loss: 0.1193 - val_loss: 0.1609\n",
      "Epoch 20/100\n",
      "16/16 - 0s - 5ms/step - loss: 0.1189 - val_loss: 0.1611\n",
      "Epoch 21/100\n",
      "16/16 - 0s - 6ms/step - loss: 0.1184 - val_loss: 0.1605\n",
      "Epoch 22/100\n",
      "16/16 - 0s - 9ms/step - loss: 0.1180 - val_loss: 0.1597\n",
      "Epoch 23/100\n",
      "16/16 - 0s - 9ms/step - loss: 0.1176 - val_loss: 0.1588\n",
      "Epoch 24/100\n",
      "16/16 - 0s - 8ms/step - loss: 0.1172 - val_loss: 0.1579\n",
      "Epoch 25/100\n",
      "16/16 - 0s - 6ms/step - loss: 0.1166 - val_loss: 0.1560\n",
      "Epoch 26/100\n",
      "16/16 - 0s - 6ms/step - loss: 0.1162 - val_loss: 0.1538\n",
      "Epoch 27/100\n",
      "16/16 - 0s - 5ms/step - loss: 0.1159 - val_loss: 0.1523\n",
      "Epoch 28/100\n",
      "16/16 - 0s - 5ms/step - loss: 0.1156 - val_loss: 0.1513\n",
      "Epoch 29/100\n",
      "16/16 - 0s - 6ms/step - loss: 0.1152 - val_loss: 0.1504\n",
      "Epoch 30/100\n",
      "16/16 - 0s - 6ms/step - loss: 0.1148 - val_loss: 0.1499\n",
      "Epoch 31/100\n",
      "16/16 - 0s - 7ms/step - loss: 0.1143 - val_loss: 0.1495\n",
      "Epoch 32/100\n",
      "16/16 - 0s - 6ms/step - loss: 0.1139 - val_loss: 0.1486\n",
      "Epoch 33/100\n",
      "16/16 - 0s - 7ms/step - loss: 0.1135 - val_loss: 0.1476\n",
      "Epoch 34/100\n",
      "16/16 - 0s - 6ms/step - loss: 0.1132 - val_loss: 0.1469\n",
      "Epoch 35/100\n",
      "16/16 - 0s - 6ms/step - loss: 0.1128 - val_loss: 0.1462\n",
      "Epoch 36/100\n",
      "16/16 - 0s - 9ms/step - loss: 0.1124 - val_loss: 0.1455\n",
      "Epoch 37/100\n",
      "16/16 - 0s - 6ms/step - loss: 0.1119 - val_loss: 0.1438\n",
      "Epoch 38/100\n",
      "16/16 - 0s - 6ms/step - loss: 0.1116 - val_loss: 0.1424\n",
      "Epoch 39/100\n",
      "16/16 - 0s - 6ms/step - loss: 0.1112 - val_loss: 0.1410\n",
      "Epoch 40/100\n",
      "16/16 - 0s - 6ms/step - loss: 0.1107 - val_loss: 0.1390\n",
      "Epoch 41/100\n",
      "16/16 - 0s - 6ms/step - loss: 0.1103 - val_loss: 0.1369\n",
      "Epoch 42/100\n",
      "16/16 - 0s - 6ms/step - loss: 0.1099 - val_loss: 0.1350\n",
      "Epoch 43/100\n",
      "16/16 - 0s - 6ms/step - loss: 0.1096 - val_loss: 0.1342\n",
      "Epoch 44/100\n",
      "16/16 - 0s - 9ms/step - loss: 0.1091 - val_loss: 0.1329\n",
      "Epoch 45/100\n",
      "16/16 - 0s - 5ms/step - loss: 0.1086 - val_loss: 0.1306\n",
      "Epoch 46/100\n",
      "16/16 - 0s - 6ms/step - loss: 0.1083 - val_loss: 0.1284\n",
      "Epoch 47/100\n",
      "16/16 - 0s - 9ms/step - loss: 0.1079 - val_loss: 0.1260\n",
      "Epoch 48/100\n",
      "16/16 - 0s - 6ms/step - loss: 0.1077 - val_loss: 0.1244\n",
      "Epoch 49/100\n",
      "16/16 - 0s - 6ms/step - loss: 0.1074 - val_loss: 0.1237\n",
      "Epoch 50/100\n",
      "16/16 - 0s - 6ms/step - loss: 0.1071 - val_loss: 0.1231\n",
      "Epoch 51/100\n",
      "16/16 - 0s - 6ms/step - loss: 0.1069 - val_loss: 0.1224\n",
      "Epoch 52/100\n",
      "16/16 - 0s - 6ms/step - loss: 0.1067 - val_loss: 0.1219\n",
      "Epoch 53/100\n",
      "16/16 - 0s - 7ms/step - loss: 0.1064 - val_loss: 0.1209\n",
      "Epoch 54/100\n",
      "16/16 - 0s - 8ms/step - loss: 0.1062 - val_loss: 0.1202\n",
      "Epoch 55/100\n",
      "16/16 - 0s - 6ms/step - loss: 0.1061 - val_loss: 0.1201\n",
      "Epoch 56/100\n",
      "16/16 - 0s - 6ms/step - loss: 0.1059 - val_loss: 0.1199\n",
      "Epoch 57/100\n",
      "16/16 - 0s - 6ms/step - loss: 0.1058 - val_loss: 0.1199\n",
      "Epoch 58/100\n",
      "16/16 - 0s - 5ms/step - loss: 0.1055 - val_loss: 0.1188\n",
      "Epoch 59/100\n",
      "16/16 - 0s - 5ms/step - loss: 0.1054 - val_loss: 0.1182\n",
      "Epoch 60/100\n",
      "16/16 - 0s - 5ms/step - loss: 0.1053 - val_loss: 0.1177\n",
      "Epoch 61/100\n",
      "16/16 - 0s - 5ms/step - loss: 0.1051 - val_loss: 0.1162\n",
      "Epoch 62/100\n",
      "16/16 - 0s - 5ms/step - loss: 0.1051 - val_loss: 0.1157\n",
      "Epoch 63/100\n",
      "16/16 - 0s - 5ms/step - loss: 0.1052 - val_loss: 0.1163\n",
      "Epoch 64/100\n",
      "16/16 - 0s - 7ms/step - loss: 0.1049 - val_loss: 0.1154\n",
      "Epoch 65/100\n",
      "16/16 - 0s - 6ms/step - loss: 0.1050 - val_loss: 0.1158\n",
      "Epoch 66/100\n",
      "16/16 - 0s - 6ms/step - loss: 0.1049 - val_loss: 0.1156\n",
      "Epoch 67/100\n",
      "16/16 - 0s - 12ms/step - loss: 0.1049 - val_loss: 0.1154\n",
      "Epoch 68/100\n",
      "16/16 - 0s - 10ms/step - loss: 0.1048 - val_loss: 0.1150\n",
      "Epoch 69/100\n",
      "16/16 - 0s - 5ms/step - loss: 0.1048 - val_loss: 0.1147\n",
      "Epoch 70/100\n",
      "16/16 - 0s - 5ms/step - loss: 0.1048 - val_loss: 0.1144\n",
      "Epoch 71/100\n",
      "16/16 - 0s - 6ms/step - loss: 0.1047 - val_loss: 0.1141\n",
      "Epoch 72/100\n",
      "16/16 - 0s - 7ms/step - loss: 0.1047 - val_loss: 0.1137\n",
      "Epoch 73/100\n",
      "16/16 - 0s - 6ms/step - loss: 0.1047 - val_loss: 0.1134\n",
      "Epoch 74/100\n",
      "16/16 - 0s - 5ms/step - loss: 0.1046 - val_loss: 0.1130\n",
      "Epoch 75/100\n",
      "16/16 - 0s - 5ms/step - loss: 0.1046 - val_loss: 0.1129\n",
      "Epoch 76/100\n",
      "16/16 - 0s - 5ms/step - loss: 0.1046 - val_loss: 0.1131\n",
      "Epoch 77/100\n",
      "16/16 - 0s - 5ms/step - loss: 0.1046 - val_loss: 0.1129\n",
      "Epoch 78/100\n",
      "16/16 - 0s - 5ms/step - loss: 0.1045 - val_loss: 0.1120\n",
      "Epoch 79/100\n",
      "16/16 - 0s - 5ms/step - loss: 0.1045 - val_loss: 0.1121\n",
      "Epoch 80/100\n",
      "16/16 - 0s - 5ms/step - loss: 0.1044 - val_loss: 0.1113\n",
      "Epoch 81/100\n",
      "16/16 - 0s - 5ms/step - loss: 0.1045 - val_loss: 0.1116\n",
      "Epoch 82/100\n",
      "16/16 - 0s - 5ms/step - loss: 0.1044 - val_loss: 0.1113\n",
      "Epoch 83/100\n",
      "16/16 - 0s - 5ms/step - loss: 0.1044 - val_loss: 0.1110\n",
      "Epoch 84/100\n",
      "16/16 - 0s - 5ms/step - loss: 0.1043 - val_loss: 0.1103\n",
      "Epoch 85/100\n",
      "16/16 - 0s - 5ms/step - loss: 0.1044 - val_loss: 0.1106\n",
      "Epoch 86/100\n",
      "16/16 - 0s - 5ms/step - loss: 0.1043 - val_loss: 0.1104\n",
      "Epoch 87/100\n",
      "16/16 - 0s - 5ms/step - loss: 0.1043 - val_loss: 0.1102\n",
      "Epoch 88/100\n",
      "16/16 - 0s - 5ms/step - loss: 0.1043 - val_loss: 0.1099\n",
      "Epoch 89/100\n",
      "16/16 - 0s - 5ms/step - loss: 0.1043 - val_loss: 0.1097\n",
      "Epoch 90/100\n",
      "16/16 - 0s - 6ms/step - loss: 0.1043 - val_loss: 0.1095\n",
      "Epoch 91/100\n",
      "16/16 - 0s - 5ms/step - loss: 0.1043 - val_loss: 0.1098\n",
      "Epoch 92/100\n",
      "16/16 - 0s - 5ms/step - loss: 0.1042 - val_loss: 0.1092\n",
      "Epoch 93/100\n",
      "16/16 - 0s - 5ms/step - loss: 0.1043 - val_loss: 0.1094\n",
      "Epoch 94/100\n",
      "16/16 - 0s - 5ms/step - loss: 0.1043 - val_loss: 0.1095\n",
      "Epoch 95/100\n",
      "16/16 - 0s - 5ms/step - loss: 0.1042 - val_loss: 0.1094\n",
      "Epoch 96/100\n",
      "16/16 - 0s - 5ms/step - loss: 0.1043 - val_loss: 0.1089\n",
      "Epoch 97/100\n",
      "16/16 - 0s - 5ms/step - loss: 0.1042 - val_loss: 0.1094\n",
      "Epoch 98/100\n",
      "16/16 - 0s - 5ms/step - loss: 0.1042 - val_loss: 0.1085\n",
      "Epoch 99/100\n",
      "16/16 - 0s - 5ms/step - loss: 0.1043 - val_loss: 0.1094\n",
      "Epoch 100/100\n",
      "16/16 - 0s - 5ms/step - loss: 0.1042 - val_loss: 0.1086\n"
     ]
    },
    {
     "data": {
      "image/png": "[encoded data removed]",
      "text/plain": [
       "<Figure size 640x480 with 1 Axes>"
      ]
     },
     "metadata": {},
     "output_type": "display_data"
    }
   ],
   "source": [
    "from keras.callbacks import EarlyStopping\n",
    "\n",
    "early_stopping = EarlyStopping(monitor='val_loss', patience=10, restore_best_weights=True)\n",
    "\n",
    "# design network\n",
    "model = Sequential()\n",
    "model.add(LSTM(4, return_sequences=True, input_shape=(train_X.shape[1], train_X.shape[2])))\n",
    "model.add(LSTM(4))  # Segunda camada LSTM\n",
    "model.add(Dense(1))  # Camada de saída\n",
    "model.compile(loss='mae', optimizer='adam')\n",
    "\n",
    "# fit network\n",
    "history = model.fit(train_X, \n",
    "                    train_y, \n",
    "                    epochs=100, \n",
    "                    batch_size=12, \n",
    "                    validation_data=(test_X, test_y), \n",
    "                    verbose=2, \n",
    "                    callbacks=[early_stopping],\n",
    "                    shuffle=False)\n",
    "\n",
    "# plot history\n",
    "pyplot.plot(history.history['loss'], label='train')\n",
    "pyplot.plot(history.history['val_loss'], label='test')\n",
    "pyplot.legend()\n",
    "pyplot.show()\n"
   ]
  },
  {
   "cell_type": "markdown",
   "id": "777e6d28-db4a-4b4e-8b9d-556c9bdbc3bd",
   "metadata": {},
   "source": [
    "## Prediction"
   ]
  },
  {
   "cell_type": "code",
   "execution_count": 337,
   "id": "acce2f3e-a406-42c7-b1fc-82f1e72e0b26",
   "metadata": {},
   "outputs": [
    {
     "name": "stdout",
     "output_type": "stream",
     "text": [
      "\u001b[1m2/2\u001b[0m \u001b[32m━━━━━━━━━━━━━━━━━━━━\u001b[0m\u001b[37m\u001b[0m \u001b[1m0s\u001b[0m 254ms/step\n",
      "Test RMSE: 290.557\n"
     ]
    }
   ],
   "source": [
    "# make a prediction\n",
    "yhat = model.predict(test_X)\n",
    "test_X = test_X.reshape((test_X.shape[0], test_X.shape[2]))\n",
    "\n",
    "# invert scaling for forecast\n",
    "inv_yhat = np.concatenate((yhat, test_X[:, 1:]), axis=1)\n",
    "inv_yhat = scaler_target.inverse_transform(inv_yhat)\n",
    "inv_yhat = inv_yhat[:,0]\n",
    "\n",
    "# invert scaling for actual\n",
    "test_y = test_y.reshape((len(test_y), 1))\n",
    "inv_y = concatenate((test_y, test_X[:, 1:]), axis=1)\n",
    "inv_y = scaler_target.inverse_transform(inv_y)\n",
    "inv_y = inv_y[:,0]\n",
    "\n",
    "# calculate RMSE\n",
    "rmse = np.sqrt(mean_squared_error(inv_y, inv_yhat))\n",
    "print('Test RMSE: %.3f' % rmse)"
   ]
  },
  {
   "cell_type": "code",
   "execution_count": 338,
   "id": "f0e4331d-d5cb-459d-82a6-37a3b494943c",
   "metadata": {},
   "outputs": [
    {
     "data": {
      "text/plain": [
       "array([3774.32864237, 3821.48935127, 3791.60945344, 3825.93037415,\n",
       "       4032.45708871, 4430.43319511, 4010.64575839, 4064.80671096,\n",
       "       4108.05861878, 4178.33254862, 4002.62200165, 3918.91172457,\n",
       "       3858.83800316, 3818.74287653, 3760.68776774, 3897.691571  ,\n",
       "       4106.02310824, 4343.0349164 , 4204.0183835 , 4494.27953291,\n",
       "       4237.148314  , 4126.03362131, 3927.12936926, 3977.06671882,\n",
       "       3744.52059197, 3861.30860376, 3902.45978761, 3675.06677437,\n",
       "       4090.57866263, 4168.41322112, 4120.03974247, 4071.61331701,\n",
       "       4117.54122901, 4006.58337402, 3860.67787337])"
      ]
     },
     "execution_count": 338,
     "metadata": {},
     "output_type": "execute_result"
    }
   ],
   "source": [
    "inv_yhat"
   ]
  },
  {
   "cell_type": "code",
   "execution_count": 339,
   "id": "92089680-94e4-4bb3-b133-c1a18159d5d4",
   "metadata": {},
   "outputs": [
    {
     "name": "stdout",
     "output_type": "stream",
     "text": [
      "Mean Absolute Error (MAE): 227.86\n",
      "Mean Squared Error (MSE): 84423.26\n",
      "Root Mean Squared Error (RMSE): 84423.26\n",
      "Mean Absolute Percentage Error (MAPE): 5.40%\n",
      "R-Squared (R²): 0.23\n"
     ]
    }
   ],
   "source": [
    "print_metrics(inv_y, inv_yhat)"
   ]
  },
  {
   "cell_type": "code",
   "execution_count": 340,
   "id": "14504ce1-6472-42f2-aa8d-b59e70536608",
   "metadata": {},
   "outputs": [
    {
     "name": "stdout",
     "output_type": "stream",
     "text": [
      "Mean Absolute Error (MAE): 227.86\n",
      "Mean Squared Error (MSE): 84423.24\n",
      "Root Mean Squared Error (RMSE): 84423.24\n",
      "Mean Absolute Percentage Error (MAPE): 5.40%\n",
      "R-Squared (R²): 0.23\n"
     ]
    }
   ],
   "source": [
    "test_pred = scaler_target.inverse_transform(yhat)\n",
    "test_test = scaler_target.inverse_transform(test_y.reshape(-1, 1))\n",
    "\n",
    "print_metrics(test_test, test_pred)"
   ]
  },
  {
   "cell_type": "code",
   "execution_count": null,
   "id": "1976a4da-fe0a-4f42-a95f-ccf8bc608a11",
   "metadata": {},
   "outputs": [],
   "source": []
  }
 ],
 "metadata": {
  "kernelspec": {
   "display_name": "Python 3 (ipykernel)",
   "language": "python",
   "name": "python3"
  },
  "language_info": {
   "codemirror_mode": {
    "name": "ipython",
    "version": 3
   },
   "file_extension": ".py",
   "mimetype": "text/x-python",
   "name": "python",
   "nbconvert_exporter": "python",
   "pygments_lexer": "ipython3",
   "version": "3.10.12"
  }
 },
 "nbformat": 4,
 "nbformat_minor": 5
}
